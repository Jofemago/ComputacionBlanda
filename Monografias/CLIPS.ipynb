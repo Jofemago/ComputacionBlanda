{
 "cells": [
  {
   "cell_type": "markdown",
   "metadata": {},
   "source": [
    "# CLIPS"
   ]
  },
  {
   "cell_type": "markdown",
   "metadata": {},
   "source": [
    "CLIPS es un acrónimo de C Language Integrated Production System (Sistema de Producción Integrado en Lenguaje  C). Esta herramienta provee entornos para el desarrollo, producción y ejecución de sistemas expertos que desde la inteligencia artificial se define como un sitema computacional que emula la capacidad de tomar desiciones de un humano experto.\n",
    "\n",
    "Creado en 1984 por la NASA.\n",
    "\n",
    "CLIPS probablemente es el sistema experto más ampliamente usado debido a que es rápido, eficiente y gratuito. Aunque ahora es de dominio público, aún es actualizado y mantenido por su autor original, Gary Riley.\n",
    "\n",
    "\n",
    "\n",
    "### UN POCO DE HISTORIA\n",
    "\n",
    "En la NASA se derrollaron muchos dispositivos basados en en soluciones de Hardware y Software y a pesar de saber la gran utilidad que pueden tener los sistemas expertos, no se estaban usando de la manera esperada, la razon es que el lenguaje usado era LISP el cual no estaba disponible para una amplia variedad de equipos de cómputo, no era fácilmente integrable con otras aplicaciones, y su costo era muy elevado.\n",
    "\n",
    "Ya que se pudo descubrir que el leguaje C era el indicado para solucionar este programa asi que hacer este programa con terceros resultaba muy costoso, la NASA decidió implementar su propio lenguaje para sitemas expertos.\n"
   ]
  },
  {
   "cell_type": "markdown",
   "metadata": {},
   "source": [
    "Primera fue creada como una herramienta de construcción pero ha evolucionado hasta el punto que permite correr los sistema expertos y consultar sobre estos, originalmente ha sido basado en la programación logica, pero su evolución ha permitido que se integraran otros paradigmas como el imperativo y el Orientado a objetos.\n",
    "\n",
    "Aunque actualmente fue creado por la NASA en el dia de hoy es mantenido por fuera de la nasa como software de dominio publico el cual es un software que no tiene derechos de autor.\n",
    "\n",
    "\n",
    "### CARACTERÍSTICAS PRINCIPALES\n",
    "\n",
    "#### Representación del conocimiento\n",
    "\n",
    " CLIPS permite manejar una amplia variedad de conocimiento, soportando tres paradigmas de programación: el declarativo, el imperativo, y el orientado a objetos. La programación lógica basada en reglas permite que el conocimiento sea representado como reglas heurísticas que especifican las acciones a ser ejecutadas dada una situación. La POO permite modelar sistemas complejos como componentes modulares. La programación imperativa permite ejecutar algoritmos de la misma manera que en C, Java, LISP y otros lenguajes.\n",
    " \n",
    "\n",
    "#### Portabilidad\n",
    "\n",
    "CLIPS fue escrito en C con el fin de hacerlo más portable y rápido, y ha sido instalado en diversos sistemas operativos (Windows 95/98/NT, MacOS X, Unix) sin ser necesario modificar su código fuente. CLIPS puede ser ejecutado en cualquier sistema con un compilador ANSI de C, o un compilador de C++. El código fuente de CLIPS puede ser modificado en caso que el usuario lo considere necesario, con el fin de agregar o quitar funcionalidades.\n",
    "\n",
    "\n",
    "#### Integrabilidad\n",
    "\n",
    "CLIPS puede ser embebido en código imperativo, invocado como una sub-rutina, e integrado con lenguajes como C, Java, FORTRAN y otros. CLIPS incorpora un completo lenguaje orientado a objetos (COOL) para la elaboración de sistemas expertos. Aunque está escrito en C, su interfaz más próxima se parece a LISP. Pueden escribirse extensiones a CLIPS sobre C, y al contrario, CLIPS puede ser llamado desde C. CLIPS puede ser extendido por el usuario mediante el uso de protocolos definidos.\n",
    "\n",
    "#### Desarrollo Interactivo\n",
    "\n",
    "La versión estándar de CLIPS provee un ambiente de desarrollo interactivo y basado en texto; este incluye herramientas para la depuración, ayuda en línea, y un editor integrado. Las interfaces de este ambiente tienen menús, editores y ventanas que han sido desarrollados para MacOS, Windows 95/98/NT, X Window, entre otros.\n",
    "\n",
    "#### Verificación/Validación\n",
    "\n",
    "CLIPS contiene funcionalidades que permiten verificar las reglas incluidas en el sistema experto que está siendo desarrollado, incluyendo diseño modular y particionamiento de la base de conocimientos del sistema, chequeo de restricciones estático y dinámico para funciones y algunos tipos de datos, y análisis semántico de reglas para prevenir posibles inconsistencias.\n",
    "Documentación: En la página web oficial de CLIPS se encuentra una extensa documentación que incluye un Manual de Referencia y una Guía del Usuario.\n",
    "\n",
    "#### Bajo Costo\n",
    "\n",
    "CLIPS es un software de dominio público.\n"
   ]
  },
  {
   "cell_type": "markdown",
   "metadata": {},
   "source": [
    "## Un poco sobre sistemas expertos"
   ]
  },
  {
   "cell_type": "markdown",
   "metadata": {},
   "source": [
    "La Inteligencia Artificial (IA) es una línea de investigación, innovación y desarrollo tecnológico en el campo de la informática, cuyo objetivo es el entender la forma de pensar del ser humano, de modo que sea posible la construcción de máquinas y sistemas que puedan comportarse como lo haría un ser humano frente a la solución de un problema. Existen dos grandes tendencias en este campo: los modelos conexionistas y los modelos simbólicos. El primero, el conexionista, busca desarrollar procesos inteligentes copiando la estructura del cerebro, y para ello recurre a la combinación artificial de elementos físicos o virtuales, que generan un principio inteligente de manera emergente. El modelo simbólico busca generar inteligencia a  partir del estudio de las leyes del pensamiento plasmadas en combinaciones forales de símbolos, buscando con ello que los conceptos base de la inteligencia se manifiesten de manera emergente como entidades que resuelven problemas de manera similar al ser humano.\n",
    "\n",
    "Los Sistemas Expertos (SE) son una de las apuestas de desarrollo tecnológico en el campo simbólico. A través de su uso, la capacidad humana de enfrentar problemas a través de razonamientos que exploran bases de conocimiento, hechos conocidos y reglas estándar de comportamiento, los Sistemas Expertos Artificiales han llegado a no diferir mucho del equivalente humano en dominios concretos del conocimiento.\n",
    "\n",
    "El presente documento explora los principales tópicos asociados a la tecnología de la Computación Blanda asociada a los Sistemas Expertos. "
   ]
  },
  {
   "cell_type": "markdown",
   "metadata": {},
   "source": [
    "### Funcionamiento basico CLIPS"
   ]
  },
  {
   "cell_type": "markdown",
   "metadata": {},
   "source": [
    "Para empezar en clips hay que tener en cuenta que es CASE SENSITIVE, diferenccia entre mayusculas y minusculas, podemos definir hechos y reglas con la ayuda de los lenguajes que incluye principalmente el lógico."
   ]
  },
  {
   "cell_type": "markdown",
   "metadata": {},
   "source": [
    "A modo de ejemplo, supongamos un sistema en el que almacenamos hechos sobre personas y edades. Para ello necesitaríamos una plantilla adecuada: "
   ]
  },
  {
   "cell_type": "raw",
   "metadata": {},
   "source": [
    " (deftemplate persona\n",
    "    (slot nombre)\n",
    "    (slot edad)\n",
    "  )"
   ]
  },
  {
   "cell_type": "markdown",
   "metadata": {},
   "source": [
    "Y después podríamos crear hechos sobre personas de la siguiente forma: "
   ]
  },
  {
   "cell_type": "raw",
   "metadata": {},
   "source": [
    " (deffacts personas_empadronadas\n",
    "     (persona (nombre \"Manolo\")  (edad 54))\n",
    "     (persona (nombre \"Ignacio\") (edad 18))\n",
    "     (persona (nombre \"Marisa\")  (edad 34))\n",
    "  )"
   ]
  }
 ],
 "metadata": {
  "kernelspec": {
   "display_name": "Python 3",
   "language": "python",
   "name": "python3"
  },
  "language_info": {
   "codemirror_mode": {
    "name": "ipython",
    "version": 3
   },
   "file_extension": ".py",
   "mimetype": "text/x-python",
   "name": "python",
   "nbconvert_exporter": "python",
   "pygments_lexer": "ipython3",
   "version": "3.5.3"
  }
 },
 "nbformat": 4,
 "nbformat_minor": 2
}
