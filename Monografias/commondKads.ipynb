{
 "cells": [
  {
   "cell_type": "markdown",
   "metadata": {},
   "source": [
    "# commondKads"
   ]
  },
  {
   "cell_type": "markdown",
   "metadata": {},
   "source": [
    "El conocimiento ha llegado a ser reconocido y manejado como una entidad valiosa en sí misma. Las encuestas muestran constantemente que los altos ejecutivos consideran que el conocimiento es el factor más importante para el éxito de la organización. En esta sociedad impulsada por el conocimiento, los sistemas de conocimiento tienen su lugar como una importante tecnología general. Es por eso que existe una gran necesidad de convertir el arte y el oficio de la ingeniería del conocimiento en una verdadera disciplina científica.\n",
    "\n",
    "CommonKADS es la metodología líder para apoyar la ingeniería de conocimiento estructurado. Se ha desarrollado gradualmente y ha sido validada por muchas empresas y universidades en el contexto del programa europeo ESPRIT IT. Ahora es el estándar europeo de facto para el análisis del conocimiento y el desarrollo de sistemas intensivos en conocimiento, y ha sido adoptado en su totalidad o ha sido parcialmente incorporado en los métodos existentes por muchas compañías importantes en Europa, así como en los Estados Unidos y Japón.\n",
    "\n",
    "CommonKADS permite detectar las oportunidades y los cuellos de botella en la forma en que las organizaciones desarrollan, distribuyen y aplican sus recursos de conocimiento y, por lo tanto, proporciona herramientas para la gestión del conocimiento corporativo. CommonKADS también proporciona los métodos para realizar un análisis detallado de tareas y procesos intensivos en conocimiento. Finalmente, CommonKADS apoya el desarrollo de sistemas de conocimiento que admiten partes seleccionadas del proceso de negocios.\n",
    "\n",
    " CommonKADS ofrece un estándar de facto para el desarrollo de sistemas que garantiza una solución de alta calidad basada en componentes reutilizables y respaldada a través de prácticas. Pautas y herramientas.\n",
    "para los gestores del conocimiento CommonKADS ofrece métodos para crear descripciones generales de tareas intensivas en conocimiento dentro del proceso empresarial general, así como técnicas para el análisis detallado del conocimiento, el desarrollo del conocimiento y el almacenamiento del conocimiento.\n",
    "\n",
    "## ¿Qué es un sistema basado en el conocimiento?\n",
    "\n",
    "Los Sistemas Basados en el Conocimiento son una rama de la Inteligencia Artificial, y podemos decir que son una realidad en el mundo del desarrollo de sistemas en la actualidad. Por lo general, están integrados en otras aplicaciones, realizando tareas especializadas en el conocimiento.\n",
    "\n",
    "Los sistemas basados en el conocimiento son el resultado de un largo proceso de investigación realizado por científicos de Inteligencia Artificial. A principios de los años 70, comenzaron a comprender que las capacidades de un programa de computadora para resolver problemas no son la expresión formal ni los esquemas lógicos de inferencia, sino el conocimiento que tiene. Un experto es una persona que posee un tipo de conocimiento y experiencia en alguna actividad de campo humano, y puede aplicarla de manera eficiente para resolver diferentes tareas que no conoce específicamente, pero que están en su dominio de conocimiento. Por lo tanto, un sistema basado en el conocimiento es un grupo de programas de computadora que intenta emular, e incluso superar, en algunas situaciones, a un experto humano en su campo. La idea no es reemplazar el pensamiento humano por una máquina, solo la experiencia de un profesional competente. Para construir una KBS, los expertos en conocimiento suelen ser asesorados por estos expertos. En algunos campos, estos expertos trabajan usando reglas, aunque no siempre se dan cuenta.\n",
    "\n",
    "Los sistemas basados en el conocimiento son poderosos cuando no es necesario utilizar la intuición o el sentido común para obtener resultados exitosos.\n",
    "\n",
    "Ha habido dos generaciones en sistemas basados en el conocimiento. En la primera, los Ingenieros del Conocimiento estaban limitados a reglas de código que contenían el conocimiento de un experto. Este formalismo no fue lo suficientemente bueno porque los proyectos eran muy difíciles de mantener y caros. Además de esto, la adquisición de conocimiento dependía en gran medida del experto. En la segunda generación, Allen Newel propuso el Nivel de conocimiento, donde el conocimiento es independiente de la implementación y está estructurado de acuerdo con los diferentes niveles de conocimiento\n",
    "\n",
    "## Que diferencia esta metodología?\n",
    "\n",
    " A diferencia de otros enfoques de ingeniería del conocimiento, CommonKADS proporciona un vínculo claro con el desarrollo moderno orientado a objetos y utiliza notaciones compatibles con UML. El producto CommonKADS se ha desarrollado durante unos 15 años y ahora se está utilizando en una amplia variedad de proyectos de aplicaciones y es el estándar interno de un número creciente de empresas."
   ]
  },
  {
   "cell_type": "markdown",
   "metadata": {},
   "source": [
    "# Aspectos basicos de commondKads\n",
    "\n",
    "## Gestión del conocimiento\n",
    "\n",
    "La gestión del conocimiento es parte de una tendencia reciente en los negocios para ver el conocimiento como un activo valioso para una organización de valor agregado. Las empresas están definiendo sus propias estrategias de gestión del conocimiento para explicar, desarrollar y distribuir sus activos de conocimiento. Sin embargo, las personas interesadas en la gestión del conocimiento a menudo encuentran que hay una falta de técnicas de apoyo para la gestión práctica del conocimiento cotidiana.\n",
    "\n",
    "CommonKADS no pretende ser una metodología completa de gestión del conocimiento, pero en la práctica se utiliza con éxito como una herramienta poderosa para respaldar la gestión del conocimiento. El marco de análisis de CommonKADS proporciona un método extenso para describir los procesos de negocios en los que se llevan a cabo tareas intensivas en conocimiento. El libro de texto CommonKADS ofrece una hoja de ruta clara sobre cómo el análisis del conocimiento y el desarrollo del sistema de conocimiento se pueden utilizar como técnicas dentro de un enfoque general de gestión del conocimiento. Esto le proporciona al administrador del conocimiento un claro manejo para definir una estrategia corporativa de gestión del conocimiento.\n",
    "\n",
    "## Análisis del conocimiento\n",
    "\n",
    "El análisis del conocimiento está dirigido a estudiar tareas intensivas en conocimiento a nivel conceptual. El análisis da como resultado una descripción de las estructuras y funciones de información y conocimiento involucradas en la tarea.\n",
    "\n",
    "El núcleo de CommonKADS está formado por su marco de análisis de conocimiento. CommonKADS proporciona todas las herramientas necesarias para analizar tareas intensivas de conocimiento en diferentes niveles de granulometría. El analista se apoya en el proceso de modelado mediante potentes 'plantillas', que constituyen modelos de conocimiento reutilizables predefinidos, que han demostrado que funcionan en el pasado. Las plantillas permiten un enfoque de arriba hacia abajo y proporcionan controles para el control de calidad y la viabilidad. evaluación.\n",
    "\n",
    "Los resultados del análisis del conocimiento se documentan en el “modelo de conocimiento”. Contiene una especificación de las estructuras de información y conocimiento involucradas en una tarea intensiva en conocimiento.\n",
    "\n",
    "El modelo de conocimiento desempeña un papel clave tanto en el trabajo de gestión del conocimiento como en las actividades consecutivas de desarrollo del sistema.\n",
    "\n",
    "\n",
    "### Desarrollo del sistema de conocimiento\n",
    "\n",
    "Los resultados del análisis de conocimiento pueden utilizarse como especificaciones para el desarrollo de un sistema que implemente esta tarea. Tales sistemas de conocimiento tenían una mala reputación hace algún tiempo, cuando la inteligencia artificial todavía estaba en sus primeras etapas. Pero ahora, las empresas están construyendo estos sistemas de manera rutinaria para actuar como asistentes inteligentes al trabajo humano.\n",
    "\n",
    "CommonKADS pone el énfasis en las primeras etapas del desarrollo del sistema. Una vez que tenga una especificación detallada de un modelo de conocimiento, CommonKADS le proporciona una ruta clara para la implementación. Normalmente, el tiempo requerido para el diseño y la implementación es mucho menor de lo que cabría esperar. Los prototipos iniciales de caña se pueden diseñar e implantar en semanas o incluso días.\n",
    "\n",
    "Esta es una característica común a todos los métodos de desarrollo modernos, a saber, que el esfuerzo se desplaza de las fases posteriores del desarrollo a las fases anteriores (análisis). Esto requiere ciclos de retroalimentación rápidos para los desarrolladores, herramientas de creación de prototipos para probar las especificaciones, etc. CommonKADS proporciona esas herramientas y técnicas.\n"
   ]
  }
 ],
 "metadata": {
  "kernelspec": {
   "display_name": "Python 3",
   "language": "python",
   "name": "python3"
  },
  "language_info": {
   "codemirror_mode": {
    "name": "ipython",
    "version": 3
   },
   "file_extension": ".py",
   "mimetype": "text/x-python",
   "name": "python",
   "nbconvert_exporter": "python",
   "pygments_lexer": "ipython3",
   "version": "3.5.3"
  }
 },
 "nbformat": 4,
 "nbformat_minor": 2
}
