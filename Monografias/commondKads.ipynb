{
 "cells": [
  {
   "cell_type": "markdown",
   "metadata": {},
   "source": [
    "# commondKads"
   ]
  },
  {
   "cell_type": "markdown",
   "metadata": {},
   "source": [
    "El conocimiento ha llegado a ser reconocido y manejado como una entidad valiosa en sí misma. Las encuestas muestran constantemente que los altos ejecutivos consideran que el conocimiento es el factor más importante para el éxito de la organización. En esta sociedad impulsada por el conocimiento, los sistemas de conocimiento tienen su lugar como una importante tecnología general. Es por eso que existe una gran necesidad de convertir el arte y el oficio de la ingeniería del conocimiento en una verdadera disciplina científica.\n",
    "\n",
    "CommonKADS es la metodología líder para apoyar la ingeniería de conocimiento estructurado. Se ha desarrollado gradualmente y ha sido validada por muchas empresas y universidades en el contexto del programa europeo ESPRIT IT. Ahora es el estándar europeo de facto para el análisis del conocimiento y el desarrollo de sistemas intensivos en conocimiento, y ha sido adoptado en su totalidad o ha sido parcialmente incorporado en los métodos existentes por muchas compañías importantes en Europa, así como en los Estados Unidos y Japón.\n",
    "\n",
    "CommonKADS permite detectar las oportunidades y los cuellos de botella en la forma en que las organizaciones desarrollan, distribuyen y aplican sus recursos de conocimiento y, por lo tanto, proporciona herramientas para la gestión del conocimiento corporativo. CommonKADS también proporciona los métodos para realizar un análisis detallado de tareas y procesos intensivos en conocimiento. Finalmente, CommonKADS apoya el desarrollo de sistemas de conocimiento que admiten partes seleccionadas del proceso de negocios.\n",
    "\n",
    " CommonKADS ofrece un estándar de facto para el desarrollo de sistemas que garantiza una solución de alta calidad basada en componentes reutilizables y respaldada a través de prácticas. Pautas y herramientas.\n",
    "para los gestores del conocimiento CommonKADS ofrece métodos para crear descripciones generales de tareas intensivas en conocimiento dentro del proceso empresarial general, así como técnicas para el análisis detallado del conocimiento, el desarrollo del conocimiento y el almacenamiento del conocimiento.\n",
    "\n",
    "\n",
    "## Que diferencia esta metodología?\n",
    "\n",
    " A diferencia de otros enfoques de ingeniería del conocimiento, CommonKADS proporciona un vínculo claro con el desarrollo moderno orientado a objetos y utiliza notaciones compatibles con UML. El producto CommonKADS se ha desarrollado durante unos 15 años y ahora se está utilizando en una amplia variedad de proyectos de aplicaciones y es el estándar interno de un número creciente de empresas."
   ]
  },
  {
   "cell_type": "markdown",
   "metadata": {},
   "source": [
    "# Aspectos basicos de commondKads\n",
    "\n",
    "## Gestión del conocimiento\n",
    "\n",
    "La gestión del conocimiento es parte de una tendencia reciente en los negocios para ver el conocimiento como un activo valioso para una organización de valor agregado. Las empresas están definiendo sus propias estrategias de gestión del conocimiento para explicar, desarrollar y distribuir sus activos de conocimiento. Sin embargo, las personas interesadas en la gestión del conocimiento a menudo encuentran que hay una falta de técnicas de apoyo para la gestión práctica del conocimiento cotidiana.\n",
    "\n",
    "CommonKADS no pretende ser una metodología completa de gestión del conocimiento, pero en la práctica se utiliza con éxito como una herramienta poderosa para respaldar la gestión del conocimiento. El marco de análisis de CommonKADS proporciona un método extenso para describir los procesos de negocios en los que se llevan a cabo tareas intensivas en conocimiento. El libro de texto CommonKADS ofrece una hoja de ruta clara sobre cómo el análisis del conocimiento y el desarrollo del sistema de conocimiento se pueden utilizar como técnicas dentro de un enfoque general de gestión del conocimiento. Esto le proporciona al administrador del conocimiento un claro manejo para definir una estrategia corporativa de gestión del conocimiento.\n",
    "\n",
    "## Análisis del conocimiento\n",
    "\n",
    "El análisis del conocimiento está dirigido a estudiar tareas intensivas en conocimiento a nivel conceptual. El análisis da como resultado una descripción de las estructuras y funciones de información y conocimiento involucradas en la tarea.\n",
    "\n",
    "El núcleo de CommonKADS está formado por su marco de análisis de conocimiento. CommonKADS proporciona todas las herramientas necesarias para analizar tareas intensivas de conocimiento en diferentes niveles de granulometría. El analista se apoya en el proceso de modelado mediante potentes 'plantillas', que constituyen modelos de conocimiento reutilizables predefinidos, que han demostrado que funcionan en el pasado. Las plantillas permiten un enfoque de arriba hacia abajo y proporcionan controles para el control de calidad y la viabilidad. evaluación.\n",
    "\n",
    "Los resultados del análisis del conocimiento se documentan en el “modelo de conocimiento”. Contiene una especificación de las estructuras de información y conocimiento involucradas en una tarea intensiva en conocimiento.\n",
    "\n",
    "El modelo de conocimiento desempeña un papel clave tanto en el trabajo de gestión del conocimiento como en las actividades consecutivas de desarrollo del sistema.\n",
    "\n",
    "\n",
    "### Desarrollo del sistema de conocimiento\n",
    "\n",
    "Los resultados del análisis de conocimiento pueden utilizarse como especificaciones para el desarrollo de un sistema que implemente esta tarea. Tales sistemas de conocimiento tenían una mala reputación hace algún tiempo, cuando la inteligencia artificial todavía estaba en sus primeras etapas. Pero ahora, las empresas están construyendo estos sistemas de manera rutinaria para actuar como asistentes inteligentes al trabajo humano.\n",
    "\n",
    "CommonKADS pone el énfasis en las primeras etapas del desarrollo del sistema. Una vez que tenga una especificación detallada de un modelo de conocimiento, CommonKADS le proporciona una ruta clara para la implementación. Normalmente, el tiempo requerido para el diseño y la implementación es mucho menor de lo que cabría esperar. Los prototipos iniciales de caña se pueden diseñar e implantar en semanas o incluso días.\n",
    "\n",
    "Esta es una característica común a todos los métodos de desarrollo modernos, a saber, que el esfuerzo se desplaza de las fases posteriores del desarrollo a las fases anteriores (análisis). Esto requiere ciclos de retroalimentación rápidos para los desarrolladores, herramientas de creación de prototipos para probar las especificaciones, etc. CommonKADS proporciona esas herramientas y técnicas.\n"
   ]
  }
 ],
 "metadata": {
  "kernelspec": {
   "display_name": "Python 3",
   "language": "python",
   "name": "python3"
  },
  "language_info": {
   "codemirror_mode": {
    "name": "ipython",
    "version": 3
   },
   "file_extension": ".py",
   "mimetype": "text/x-python",
   "name": "python",
   "nbconvert_exporter": "python",
   "pygments_lexer": "ipython3",
   "version": "3.5.3"
  }
 },
 "nbformat": 4,
 "nbformat_minor": 2
}
